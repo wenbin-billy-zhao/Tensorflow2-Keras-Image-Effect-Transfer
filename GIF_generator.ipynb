{
 "cells": [
  {
   "cell_type": "code",
   "execution_count": 1,
   "metadata": {},
   "outputs": [],
   "source": [
    "import imageio\n",
    "import os"
   ]
  },
  {
   "cell_type": "code",
   "execution_count": 3,
   "metadata": {},
   "outputs": [],
   "source": [
    "def gif_generator():\n",
    "    list_of_files = os.listdir('static/12-iterations/')\n",
    "    list_of_files.pop(0) # remove first DS\n",
    "    full_path = [\"static/12-iterations/{0}\".format(x) for x in list_of_files]\n",
    "    images = []\n",
    "    for filename in full_path:\n",
    "        images.append(imageio.imread(filename))\n",
    "    imageio.mimsave('static/gif/recent.gif', images)"
   ]
  },
  {
   "cell_type": "code",
   "execution_count": null,
   "metadata": {},
   "outputs": [],
   "source": []
  }
 ],
 "metadata": {
  "kernelspec": {
   "display_name": "Python 3",
   "language": "python",
   "name": "python3"
  },
  "language_info": {
   "codemirror_mode": {
    "name": "ipython",
    "version": 3
   },
   "file_extension": ".py",
   "mimetype": "text/x-python",
   "name": "python",
   "nbconvert_exporter": "python",
   "pygments_lexer": "ipython3",
   "version": "3.7.2"
  }
 },
 "nbformat": 4,
 "nbformat_minor": 2
}
