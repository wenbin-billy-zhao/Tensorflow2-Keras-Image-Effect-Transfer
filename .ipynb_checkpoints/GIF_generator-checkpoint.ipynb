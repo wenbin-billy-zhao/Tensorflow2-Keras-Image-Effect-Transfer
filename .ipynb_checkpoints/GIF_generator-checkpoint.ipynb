{
 "cells": [
  {
   "cell_type": "code",
   "execution_count": 1,
   "metadata": {},
   "outputs": [],
   "source": [
    "import imageio\n",
    "import os"
   ]
  },
  {
   "cell_type": "code",
   "execution_count": 2,
   "metadata": {},
   "outputs": [
    {
     "name": "stdout",
     "output_type": "stream",
     "text": [
      "['static/12-iterations/nst0.png', 'static/12-iterations/nst1.png', 'static/12-iterations/nst3.png', 'static/12-iterations/nst2.png', 'static/12-iterations/nst6.png', 'static/12-iterations/nst7.png', 'static/12-iterations/nst5.png', 'static/12-iterations/nst4.png', 'static/12-iterations/nst9.png', 'static/12-iterations/nst8.png', 'static/12-iterations/nst10.png', 'static/12-iterations/nst11.png']\n"
     ]
    }
   ],
   "source": []
  },
  {
   "cell_type": "code",
   "execution_count": 3,
   "metadata": {},
   "outputs": [],
   "source": [
    "def gif_generator():\n",
    "    list_of_files = os.listdir('static/12-iterations/')\n",
    "    list_of_files.pop(0) # remove first DS\n",
    "    full_path = [\"static/12-iterations/{0}\".format(x) for x in list_of_files]\n",
    "    images = []\n",
    "    for filename in full_path:\n",
    "        images.append(imageio.imread(filename))\n",
    "    imageio.mimsave('static/gif/movie.gif', images)"
   ]
  },
  {
   "cell_type": "code",
   "execution_count": null,
   "metadata": {},
   "outputs": [],
   "source": []
  }
 ],
 "metadata": {
  "kernelspec": {
   "display_name": "Python 3",
   "language": "python",
   "name": "python3"
  },
  "language_info": {
   "codemirror_mode": {
    "name": "ipython",
    "version": 3
   },
   "file_extension": ".py",
   "mimetype": "text/x-python",
   "name": "python",
   "nbconvert_exporter": "python",
   "pygments_lexer": "ipython3",
   "version": "3.7.2"
  }
 },
 "nbformat": 4,
 "nbformat_minor": 2
}
