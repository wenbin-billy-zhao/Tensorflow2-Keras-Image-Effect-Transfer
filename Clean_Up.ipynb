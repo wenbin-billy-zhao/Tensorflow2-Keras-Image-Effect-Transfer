{
 "cells": [
  {
   "cell_type": "code",
   "execution_count": 1,
   "metadata": {},
   "outputs": [],
   "source": [
    "# libraries\n",
    "import os"
   ]
  },
  {
   "cell_type": "code",
   "execution_count": 2,
   "metadata": {},
   "outputs": [
    {
     "name": "stdout",
     "output_type": "stream",
     "text": [
      "['static/gallery/best1.png', 'static/gallery/best.png']\n",
      "There are 2 files in the gallery folder. \n",
      "No deletion required.\n"
     ]
    }
   ],
   "source": [
    "def cleaning()\n",
    "    list_of_files = os.listdir('static/gallery/')\n",
    "    list_of_files.pop(0) # remove first DS\n",
    "    full_path = [\"static/gallery/{0}\".format(x) for x in list_of_files]\n",
    "    print(full_path)\n",
    "    if len([name for name in list_of_files]) > 12:\n",
    "        oldest_file = min(full_path, key=os.path.getctime)\n",
    "        print(oldest_file)\n",
    "        os.remove(oldest_file)\n",
    "    elif len([name for name in list_of_files]) == 12 or len([name for name in list_of_files]) < 12:\n",
    "        print(f'There are {len([name for name in list_of_files])} files in the gallery folder. \\nNo deletion required.')"
   ]
  },
  {
   "cell_type": "code",
   "execution_count": null,
   "metadata": {},
   "outputs": [],
   "source": []
  }
 ],
 "metadata": {
  "kernelspec": {
   "display_name": "Python 3",
   "language": "python",
   "name": "python3"
  },
  "language_info": {
   "codemirror_mode": {
    "name": "ipython",
    "version": 3
   },
   "file_extension": ".py",
   "mimetype": "text/x-python",
   "name": "python",
   "nbconvert_exporter": "python",
   "pygments_lexer": "ipython3",
   "version": "3.7.2"
  }
 },
 "nbformat": 4,
 "nbformat_minor": 2
}
