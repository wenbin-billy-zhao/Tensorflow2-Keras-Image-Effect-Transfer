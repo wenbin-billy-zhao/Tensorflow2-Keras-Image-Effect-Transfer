{
 "cells": [
  {
   "cell_type": "markdown",
   "metadata": {},
   "source": [
    "# Scrape for Artists and Representative Image"
   ]
  },
  {
   "cell_type": "markdown",
   "metadata": {},
   "source": [
    "Scrape for the top 100 most influential artists of all time. Select a painting that\n",
    "is most representative of their known art and save to a folder. \n",
    "Reference the images for image transfers"
   ]
  },
  {
   "cell_type": "markdown",
   "metadata": {},
   "source": [
    "## Scrape for top 101 artists of all time"
   ]
  },
  {
   "cell_type": "code",
   "execution_count": 20,
   "metadata": {},
   "outputs": [],
   "source": [
    "# import libraries\n",
    "import numpy as np\n",
    "import pandas as pd\n",
    "import os\n",
    "from bs4 import BeautifulSoup\n",
    "import pymongo\n",
    "from splinter import Browser\n",
    "import urllib.request\n",
    "import time"
   ]
  },
  {
   "cell_type": "code",
   "execution_count": 21,
   "metadata": {},
   "outputs": [],
   "source": [
    "# # launch chrome driver\n",
    "executable_path = {'executable_path': '/Users/prettyvo/Desktop/chromedriver'}\n",
    "browser = Browser('chrome', **executable_path, headless=True)"
   ]
  },
  {
   "cell_type": "code",
   "execution_count": 22,
   "metadata": {},
   "outputs": [],
   "source": [
    "# visit the site\n",
    "url = \"http://www.theartwolf.com/articles/most-important-painters.htm\"\n",
    "browser.visit(url)\n",
    "html=browser.html\n",
    "art = BeautifulSoup(html, 'html.parser')"
   ]
  },
  {
   "cell_type": "code",
   "execution_count": 23,
   "metadata": {},
   "outputs": [
    {
     "data": {
      "text/html": [
       "<div>\n",
       "<style scoped>\n",
       "    .dataframe tbody tr th:only-of-type {\n",
       "        vertical-align: middle;\n",
       "    }\n",
       "\n",
       "    .dataframe tbody tr th {\n",
       "        vertical-align: top;\n",
       "    }\n",
       "\n",
       "    .dataframe thead th {\n",
       "        text-align: right;\n",
       "    }\n",
       "</style>\n",
       "<table border=\"1\" class=\"dataframe\">\n",
       "  <thead>\n",
       "    <tr style=\"text-align: right;\">\n",
       "      <th></th>\n",
       "      <th>artists</th>\n",
       "      <th>artists_search_name</th>\n",
       "    </tr>\n",
       "  </thead>\n",
       "  <tbody>\n",
       "    <tr>\n",
       "      <th>0</th>\n",
       "      <td>PABLO PICASSO</td>\n",
       "      <td>pablo-picasso</td>\n",
       "    </tr>\n",
       "    <tr>\n",
       "      <th>1</th>\n",
       "      <td>GIOTTO DI BONDONE</td>\n",
       "      <td>giotto-di-bondone</td>\n",
       "    </tr>\n",
       "    <tr>\n",
       "      <th>2</th>\n",
       "      <td>LEONARDO DA VINCI</td>\n",
       "      <td>leonardo-da-vinci</td>\n",
       "    </tr>\n",
       "    <tr>\n",
       "      <th>3</th>\n",
       "      <td>PAUL CÉZANNE</td>\n",
       "      <td>paul-cézanne</td>\n",
       "    </tr>\n",
       "    <tr>\n",
       "      <th>4</th>\n",
       "      <td>REMBRANDT VAN RIJN</td>\n",
       "      <td>rembrandt-van-rijn</td>\n",
       "    </tr>\n",
       "  </tbody>\n",
       "</table>\n",
       "</div>"
      ],
      "text/plain": [
       "              artists artists_search_name\n",
       "0       PABLO PICASSO       pablo-picasso\n",
       "1   GIOTTO DI BONDONE   giotto-di-bondone\n",
       "2   LEONARDO DA VINCI   leonardo-da-vinci\n",
       "3        PAUL CÉZANNE        paul-cézanne\n",
       "4  REMBRANDT VAN RIJN  rembrandt-van-rijn"
      ]
     },
     "execution_count": 23,
     "metadata": {},
     "output_type": "execute_result"
    }
   ],
   "source": [
    "# scrape for the artists anmes \n",
    "artists = art.find('div', class_='noticiacentro')\n",
    "artists_info = artists.find_all('p')\n",
    "artists_name = [x.strong for x in artists_info]\n",
    "\n",
    "# artists_names = [x.text for x in artists_name]\n",
    "artists_name.pop(0) # remove first in list -> intro paragraph with no artist\n",
    "artists_name = [x.text for x in artists_name] # pull text from tag\n",
    "\n",
    "# manipulate arists list to search in wikiart\n",
    "artists_search = [x.lower() for x in artists_name]\n",
    "artists_search = [x.replace(' ', '-') for x in artists_search]\n",
    "\n",
    "# put artists names into a df\n",
    "df = pd.DataFrame(artists_name, columns=[\"artists\"])\n",
    "df['artists_search_name'] = artists_search\n",
    "df.head()"
   ]
  },
  {
   "cell_type": "markdown",
   "metadata": {},
   "source": [
    "## Scrape for images"
   ]
  },
  {
   "cell_type": "code",
   "execution_count": 24,
   "metadata": {},
   "outputs": [
    {
     "name": "stdout",
     "output_type": "stream",
     "text": [
      "pablo-picasso error\n",
      "giotto-di-bondone error\n",
      "leonardo-da-vinci error\n",
      "paul-cézanne error\n",
      "rembrandt-van-rijn error\n",
      "diego-velázquez error\n",
      "wassily-kandinsky error\n",
      "claude-monet error\n",
      "caravaggio error\n",
      "joseph-mallord-william-turner error\n",
      "-jan-van-eyck error\n",
      "albrecht-dürer error\n",
      "jackson-pollock error\n",
      "michelangelo-buonarroti error\n",
      "paul-gauguin error\n",
      "francisco-de-goya error\n",
      "vincent-van-gogh error\n",
      "édouard-manet error\n",
      "mark-rothko error\n",
      "henri-matisse- error\n",
      "raphael error\n",
      "jean-michel-basquiat error\n",
      "edvard-munch error\n",
      "titian error\n",
      "piet-mondrian error\n",
      "piero-della-francesca error\n",
      "peter-paul-rubens error\n",
      "andy-warhol error\n",
      "joan-miró error\n",
      "tommaso-masaccio error\n",
      "marc-chagall error\n",
      "gustave-courbet error\n",
      "nicolas-poussin error\n",
      "willem-de-kooning- error\n",
      "paul-klee error\n",
      "francis-bacon error\n",
      "gustav-klimt- error\n",
      "eugène-delacroix error\n",
      "paolo-uccello error\n",
      "william-blake error\n",
      "kazimir-malevich- error\n",
      "andrea-mantegna error\n",
      "jan-vermeer error\n",
      "el-greco error\n",
      "caspar-david-friedrich error\n",
      "winslow-homer error\n",
      "marcel-duchamp error\n",
      "giorgione error\n",
      "frida-kahlo error\n",
      "hans-holbein-the-younger error\n",
      "-edgar-degas error\n",
      "fra-angelico error\n",
      "georges-seurat- error\n",
      "jean-antoine-watteau error\n",
      "salvador-dalí error\n",
      "max-ernst- error\n",
      "tintoretto error\n",
      "-jasper-johns error\n",
      "sandro-botticelli error\n",
      "david-hockney error\n",
      "umberto-boccioni error\n",
      "joachim-patinir error\n",
      "duccio-da-buoninsegna error\n",
      "roger-van-der-weyden error\n",
      "john-constable error\n",
      "jacques-louis-david error\n",
      "arshille-gorky error\n",
      "hieronymus-bosch- error\n",
      "pieter-bruegel-the-elder error\n",
      "simone-martini error\n",
      "frederic-edwin-church error\n",
      "edward-hopper error\n",
      "lucio-fontana error\n",
      "franz-marc error\n",
      "pierre-auguste-renoir error\n",
      "james-mcneill-whistler error\n",
      "theodore-géricault error\n",
      "william-hogarth error\n",
      "camille-corot error\n",
      "georges-braque error\n",
      "hans-memling error\n",
      "gerhard-richter error\n",
      "amedeo-modigliani error\n",
      "georges-de-la-tour error\n",
      "gentileschi,-artemisia error\n",
      "jean-françois-millet error\n",
      "francisco-de-zurbarán error\n",
      "cimabue error\n",
      "james-ensor error\n",
      "-rené-magritte- error\n",
      "el-lissitzky error\n",
      "egon-schiele error\n",
      "dante-gabriel-rossetti error\n",
      "frans-hals error\n",
      "claude-lorrain error\n",
      "roy-lichtenstein error\n",
      "-georgia-o'keefe error\n",
      "gustave-moreau error\n",
      "giorgio-de-chirico error\n",
      "fernand-léger error\n",
      "jean-auguste-dominique-ingres error\n"
     ]
    }
   ],
   "source": [
    "# loop over and pull first image for artist\n",
    "artist_image_found = []\n",
    "art_pieces = []\n",
    "art_work = []\n",
    "counter  = 0\n",
    "for name in artists_search:\n",
    "    # visit the site for each artist\n",
    "    url_paintings = f'https://www.wikiart.org/en/{name}'\n",
    "    browser.visit(url_paintings)\n",
    "    time.sleep(1) # wait for the page to load\n",
    "    html3=browser.html\n",
    "    search_artist = BeautifulSoup(html3, 'html.parser')\n",
    "    \n",
    "    try:\n",
    "        # get the image of the artwork\n",
    "        images = search_artist.find('div', class_='masonry-content')\n",
    "        paintings = images.find_all('img')\n",
    "        paintings = [x['src'] for x in paintings]\n",
    "        \n",
    "        # get the title of the art work    \n",
    "        title = search_artist.find_all('div', class_='title-block')\n",
    "        painting_titles = [x.text.strip() for x in title] # clean data\n",
    "        painting_titles = [x.split('\\n')[0].strip() for x in painting_titles] # save only the title\n",
    "        art_pieces.append(painting_titles[0])\n",
    "        art_work.append(paintings[0])\n",
    "        artist_image_found.append(name)\n",
    "        \n",
    "        # save image\n",
    "        save_image = os.path.join(\"images\", f'{name}_{painting_titles[0].replce(\" \", \"_\")}.jpg')\n",
    "        urllib.request.urlretrieve(paintings[0], save_image) #save the image from the url\n",
    "        \n",
    "        print(f'{counter} {name} image saved')\n",
    "        print(f'paini')\n",
    "        counter +=1\n",
    "    except:\n",
    "        print(f'{name} error')\n",
    "        pass"
   ]
  },
  {
   "cell_type": "code",
   "execution_count": 36,
   "metadata": {},
   "outputs": [
    {
     "name": "stdout",
     "output_type": "stream",
     "text": [
      "https://uploads4.wikiart.org/images/rembrandt/christ-in-the-storm-1633.jpg!PinterestSmall.jpg\n"
     ]
    }
   ],
   "source": [
    "print(art_work[3])"
   ]
  },
  {
   "cell_type": "code",
   "execution_count": 25,
   "metadata": {},
   "outputs": [],
   "source": [
    "# close browser\n",
    "browser.quit()"
   ]
  },
  {
   "cell_type": "code",
   "execution_count": 26,
   "metadata": {},
   "outputs": [
    {
     "name": "stdout",
     "output_type": "stream",
     "text": [
      "72\n"
     ]
    },
    {
     "data": {
      "text/html": [
       "<div>\n",
       "<style scoped>\n",
       "    .dataframe tbody tr th:only-of-type {\n",
       "        vertical-align: middle;\n",
       "    }\n",
       "\n",
       "    .dataframe tbody tr th {\n",
       "        vertical-align: top;\n",
       "    }\n",
       "\n",
       "    .dataframe thead th {\n",
       "        text-align: right;\n",
       "    }\n",
       "</style>\n",
       "<table border=\"1\" class=\"dataframe\">\n",
       "  <thead>\n",
       "    <tr style=\"text-align: right;\">\n",
       "      <th></th>\n",
       "      <th>Artists</th>\n",
       "      <th>Piece_Title</th>\n",
       "      <th>Art_Piece</th>\n",
       "    </tr>\n",
       "  </thead>\n",
       "  <tbody>\n",
       "    <tr>\n",
       "      <th>0</th>\n",
       "      <td>pablo-picasso</td>\n",
       "      <td>Child with dove</td>\n",
       "      <td>https://uploads4.wikiart.org/images/pablo-pica...</td>\n",
       "    </tr>\n",
       "    <tr>\n",
       "      <th>1</th>\n",
       "      <td>giotto-di-bondone</td>\n",
       "      <td>The Trial by Fire, St. Francis offers to walk ...</td>\n",
       "      <td>https://uploads6.wikiart.org/images/giotto/the...</td>\n",
       "    </tr>\n",
       "    <tr>\n",
       "      <th>2</th>\n",
       "      <td>leonardo-da-vinci</td>\n",
       "      <td>The Madonna of the Carnation</td>\n",
       "      <td>https://uploads7.wikiart.org/images/leonardo-d...</td>\n",
       "    </tr>\n",
       "    <tr>\n",
       "      <th>3</th>\n",
       "      <td>rembrandt-van-rijn</td>\n",
       "      <td>The Storm on the Sea of Galilee</td>\n",
       "      <td>https://uploads4.wikiart.org/images/rembrandt/...</td>\n",
       "    </tr>\n",
       "    <tr>\n",
       "      <th>4</th>\n",
       "      <td>wassily-kandinsky</td>\n",
       "      <td>Blue rider</td>\n",
       "      <td>https://uploads3.wikiart.org/images/wassily-ka...</td>\n",
       "    </tr>\n",
       "  </tbody>\n",
       "</table>\n",
       "</div>"
      ],
      "text/plain": [
       "              Artists                                        Piece_Title  \\\n",
       "0       pablo-picasso                                    Child with dove   \n",
       "1   giotto-di-bondone  The Trial by Fire, St. Francis offers to walk ...   \n",
       "2   leonardo-da-vinci                       The Madonna of the Carnation   \n",
       "3  rembrandt-van-rijn                    The Storm on the Sea of Galilee   \n",
       "4   wassily-kandinsky                                         Blue rider   \n",
       "\n",
       "                                           Art_Piece  \n",
       "0  https://uploads4.wikiart.org/images/pablo-pica...  \n",
       "1  https://uploads6.wikiart.org/images/giotto/the...  \n",
       "2  https://uploads7.wikiart.org/images/leonardo-d...  \n",
       "3  https://uploads4.wikiart.org/images/rembrandt/...  \n",
       "4  https://uploads3.wikiart.org/images/wassily-ka...  "
      ]
     },
     "execution_count": 26,
     "metadata": {},
     "output_type": "execute_result"
    }
   ],
   "source": [
    "# save artists with images to a df\n",
    "df_artists_images = pd.DataFrame(artist_image_found, columns = ['Artists'])\n",
    "df_artists_images['Piece_Title'] = art_pieces\n",
    "df_artists_images['Art_Piece'] = art_work\n",
    "print(len(art_pieces))\n",
    "\n",
    "# display dataframe\n",
    "df_artists_images.head()"
   ]
  },
  {
   "cell_type": "code",
   "execution_count": 19,
   "metadata": {},
   "outputs": [],
   "source": [
    "# save the csv\n",
    "saved = df_artists_images.to_csv(\"artist_and_art_titles.csv\")"
   ]
  },
  {
   "cell_type": "code",
   "execution_count": null,
   "metadata": {},
   "outputs": [],
   "source": []
  }
 ],
 "metadata": {
  "kernelspec": {
   "display_name": "Python 3",
   "language": "python",
   "name": "python3"
  },
  "language_info": {
   "codemirror_mode": {
    "name": "ipython",
    "version": 3
   },
   "file_extension": ".py",
   "mimetype": "text/x-python",
   "name": "python",
   "nbconvert_exporter": "python",
   "pygments_lexer": "ipython3",
   "version": "3.7.1"
  }
 },
 "nbformat": 4,
 "nbformat_minor": 2
}
